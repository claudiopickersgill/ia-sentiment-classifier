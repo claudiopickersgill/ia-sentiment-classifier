{
 "cells": [
  {
   "cell_type": "markdown",
   "metadata": {},
   "source": [
    "#### Não coloquei método de pagamento na OpanAI"
   ]
  },
  {
   "cell_type": "code",
   "execution_count": 1,
   "metadata": {},
   "outputs": [],
   "source": [
    "from skllm.config import SKLLMConfig\n",
    "from skllm.datasets import get_classification_dataset\n",
    "import utils_config\n",
    "config_file=\"./config.json\"\n",
    "config = utils_config.load_config(config_file)"
   ]
  },
  {
   "cell_type": "code",
   "execution_count": 2,
   "metadata": {},
   "outputs": [],
   "source": [
    "SKLLMConfig.set_openai_key(config.OPENAI_SECRET_KEY)\n",
    "SKLLMConfig.set_openai_org(config.OPENAI_ORG_ID)"
   ]
  },
  {
   "cell_type": "markdown",
   "metadata": {},
   "source": [
    "#### Classificador Simples"
   ]
  },
  {
   "cell_type": "code",
   "execution_count": 3,
   "metadata": {},
   "outputs": [],
   "source": [
    "movie_reviews = [\n",
    "    \"This movie was absolutely wonderful. The storyline was compelling and the characters were very realistic.\",\n",
    "    \"I really loved the film! The plot had a few unexpected twists which kept me engaged till the end.\",\n",
    "    \"The movie was alright. Not great, but not bad either. A decent one-time watch.\",\n",
    "    \"I didn't enjoy the film that much. The plot was quite predictable and the characters lacked depth.\",\n",
    "    \"This movie was not to my taste. It felt too slow and the storyline wasn't engaging enough.\",\n",
    "    \"The film was okay. It was neither impressive nor disappointing. It was just fine.\",\n",
    "    \"I was blown away by the movie! The cinematography was excellent and the performances were top-notch.\",\n",
    "    \"I didn't like the movie at all. The story was uninteresting and the acting was mediocre at best.\",\n",
    "    \"The movie was decent. It had its moments but was not consistently engaging.\"\n",
    "]\n",
    "\n",
    "movie_review_labels = [\n",
    "    \"positive\",\n",
    "    \"positive\",\n",
    "    \"neutral\",\n",
    "    \"negative\",\n",
    "    \"negative\",\n",
    "    \"neutral\",\n",
    "    \"positive\",\n",
    "    \"negative\",\n",
    "    \"neutral\"\n",
    "]\n",
    "\n",
    "new_movie_reviews = [\n",
    "    \"The movie was fantastic! I was captivated by the storyline from beginning to end.\",\n",
    "    \"I found the film to be quite boring. The plot moved too slowly and the acting was subpar.\",\n",
    "    \"The movie was okay. Not the best I've seen, but certainly not the worst.\"\n",
    "]"
   ]
  },
  {
   "cell_type": "code",
   "execution_count": 4,
   "metadata": {},
   "outputs": [
    {
     "name": "stderr",
     "output_type": "stream",
     "text": [
      "100%|██████████| 3/3 [00:02<00:00,  1.08it/s]\n"
     ]
    }
   ],
   "source": [
    "from skllm import ZeroShotGPTClassifier\n",
    "\n",
    "model = ZeroShotGPTClassifier()\n",
    "model.fit(X=movie_reviews, y=movie_review_labels)\n",
    "movie_labels = model.predict(X=new_movie_reviews)"
   ]
  },
  {
   "cell_type": "code",
   "execution_count": 5,
   "metadata": {},
   "outputs": [
    {
     "name": "stdout",
     "output_type": "stream",
     "text": [
      "(positive) => The movie was fantastic! I was captivated by the storyline from beginning to end. \n",
      "(negative) => I found the film to be quite boring. The plot moved too slowly and the acting was subpar. \n",
      "(neutral) => The movie was okay. Not the best I've seen, but certainly not the worst. \n"
     ]
    }
   ],
   "source": [
    "for idx, review in enumerate(new_movie_reviews):\n",
    "    print(f\"({movie_labels[idx]}) => { review} \")"
   ]
  },
  {
   "cell_type": "markdown",
   "metadata": {},
   "source": [
    "#### Classificador Multi-Label"
   ]
  },
  {
   "cell_type": "code",
   "execution_count": 6,
   "metadata": {},
   "outputs": [],
   "source": [
    "restaurant_reviews = [\n",
    "    \"The food was delicious and the service was excellent. A wonderful dining experience!\",\n",
    "    \"The restaurant was in a great location, but the food was just average.\",\n",
    "    \"The service was very slow and the food was cold when it arrived. Not a good experience.\",\n",
    "    \"The restaurant has a beautiful ambiance, and the food was superb.\",\n",
    "    \"The food was great, but I found it to be a bit overpriced.\",\n",
    "    \"The restaurant was conveniently located, but the service was poor.\",\n",
    "    \"The food was not as expected, but the restaurant ambiance was really nice.\",\n",
    "    \"Great food and quick service. The location was also very convenient.\",\n",
    "    \"The prices were a bit high, but the food quality and the service were excellent.\",\n",
    "    \"The restaurant offered a wide variety of dishes. The service was also very quick.\"\n",
    "]\n",
    "\n",
    "restaurant_review_labels = [\n",
    "    [\"Food\", \"Service\"],\n",
    "    [\"Location\", \"Food\"],\n",
    "    [\"Service\", \"Food\"],\n",
    "    [\"Atmosphere\", \"Food\"],\n",
    "    [\"Food\", \"Price\"],\n",
    "    [\"Location\", \"Service\"],\n",
    "    [\"Food\", \"Atmosphere\"],\n",
    "    [\"Food\", \"Service\", \"Location\"],\n",
    "    [\"Price\", \"Food\", \"Service\"],\n",
    "    [\"Food Variety\", \"Service\"]\n",
    "]\n",
    "\n",
    "new_restaurant_reviews = [\n",
    "    \"The food was excellent and the restaurant was located in the heart of the city.\",\n",
    "    \"The service was slow and the food was not worth the price.\",\n",
    "    \"The restaurant had a wonderful ambiance, but the variety of dishes was limited.\"\n",
    "]"
   ]
  },
  {
   "cell_type": "code",
   "execution_count": 7,
   "metadata": {},
   "outputs": [
    {
     "name": "stderr",
     "output_type": "stream",
     "text": [
      "100%|██████████| 3/3 [00:02<00:00,  1.22it/s]\n"
     ]
    }
   ],
   "source": [
    "from skllm import MultiLabelZeroShotGPTClassifier\n",
    "\n",
    "model = MultiLabelZeroShotGPTClassifier()\n",
    "model.fit(X=restaurant_reviews, y=restaurant_review_labels)\n",
    "restaurant_predict_labels = model.predict(X=new_restaurant_reviews)"
   ]
  },
  {
   "cell_type": "code",
   "execution_count": 8,
   "metadata": {},
   "outputs": [
    {
     "name": "stdout",
     "output_type": "stream",
     "text": [
      "(['Food', 'Location']) => ['Food', 'Location'] \n",
      "(['Service', 'Price']) => ['Service', 'Price'] \n",
      "(['Atmosphere', 'Food Variety']) => ['Atmosphere', 'Food Variety'] \n"
     ]
    }
   ],
   "source": [
    "for idx, review in enumerate(restaurant_predict_labels):\n",
    "    print(f\"({restaurant_predict_labels[idx]}) => { review} \")"
   ]
  },
  {
   "cell_type": "markdown",
   "metadata": {},
   "source": [
    "#### Get Classification Dataset"
   ]
  },
  {
   "cell_type": "code",
   "execution_count": 9,
   "metadata": {},
   "outputs": [
    {
     "name": "stderr",
     "output_type": "stream",
     "text": [
      "100%|██████████| 30/30 [00:22<00:00,  1.36it/s]"
     ]
    },
    {
     "name": "stdout",
     "output_type": "stream",
     "text": [
      "['positive', 'positive', 'positive', 'positive', 'positive', 'positive', 'positive', 'positive', 'positive', 'positive', 'negative', 'negative', 'negative', 'negative', 'negative', 'negative', 'negative', 'negative', 'negative', 'negative', 'negative', 'neutral', 'neutral', 'neutral', 'neutral', 'negative', 'negative', 'neutral', 'neutral', 'neutral']\n"
     ]
    },
    {
     "name": "stderr",
     "output_type": "stream",
     "text": [
      "\n"
     ]
    }
   ],
   "source": [
    "X, _ = get_classification_dataset()\n",
    "\n",
    "model_classification = ZeroShotGPTClassifier()\n",
    "model_classification.fit(None, ['positive', 'negative', 'neutral'])\n",
    "labels = model_classification.predict(X)"
   ]
  },
  {
   "cell_type": "code",
   "execution_count": 10,
   "metadata": {},
   "outputs": [
    {
     "data": {
      "text/plain": [
       "['positive',\n",
       " 'positive',\n",
       " 'positive',\n",
       " 'positive',\n",
       " 'positive',\n",
       " 'positive',\n",
       " 'positive',\n",
       " 'positive',\n",
       " 'positive',\n",
       " 'positive',\n",
       " 'negative',\n",
       " 'negative',\n",
       " 'negative',\n",
       " 'negative',\n",
       " 'negative',\n",
       " 'negative',\n",
       " 'negative',\n",
       " 'negative',\n",
       " 'negative',\n",
       " 'negative',\n",
       " 'negative',\n",
       " 'neutral',\n",
       " 'neutral',\n",
       " 'neutral',\n",
       " 'neutral',\n",
       " 'negative',\n",
       " 'negative',\n",
       " 'neutral',\n",
       " 'neutral',\n",
       " 'neutral']"
      ]
     },
     "execution_count": 10,
     "metadata": {},
     "output_type": "execute_result"
    }
   ],
   "source": [
    "labels"
   ]
  }
 ],
 "metadata": {
  "kernelspec": {
   "display_name": ".venv",
   "language": "python",
   "name": "python3"
  },
  "language_info": {
   "codemirror_mode": {
    "name": "ipython",
    "version": 3
   },
   "file_extension": ".py",
   "mimetype": "text/x-python",
   "name": "python",
   "nbconvert_exporter": "python",
   "pygments_lexer": "ipython3",
   "version": "3.10.9"
  },
  "orig_nbformat": 4
 },
 "nbformat": 4,
 "nbformat_minor": 2
}
